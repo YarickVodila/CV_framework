{
 "cells": [
  {
   "cell_type": "markdown",
   "metadata": {},
   "source": [
    "# Разработка фреймворка для компьютерного зрения"
   ]
  },
  {
   "cell_type": "code",
   "execution_count": 1,
   "metadata": {},
   "outputs": [],
   "source": [
    "from deepface import DeepFace\n",
    "import os\n",
    "from scipy.spatial import distance\n",
    "from PIL import Image, ImageDraw, ImageFont\n",
    "import random\n",
    "import pandas as pd\n",
    "import numpy as np\n",
    "import cv2\n",
    "from deepface.detectors import FaceDetector\n",
    "import time\n",
    "from deepface.commons import functions\n",
    "from tensorflow.keras.utils import img_to_array\n",
    "import keyboard"
   ]
  },
  {
   "cell_type": "markdown",
   "metadata": {},
   "source": [
    "### Поиск лица"
   ]
  },
  {
   "cell_type": "code",
   "execution_count": 3,
   "metadata": {},
   "outputs": [
    {
     "name": "stdout",
     "output_type": "stream",
     "text": [
      "facial recognition model ArcFace is just built\n",
      "Age model is just built\n",
      "Gender model is just built\n",
      "Emotion model is just built\n"
     ]
    },
    {
     "name": "stderr",
     "output_type": "stream",
     "text": [
      "Finding representations: 100%|██████████| 3/3 [00:09<00:00,  3.17s/it]\n"
     ]
    },
    {
     "name": "stdout",
     "output_type": "stream",
     "text": [
      "Representations stored in test/representations_arcface.pkl file.Please delete this file when you add new identities in your database.\n",
      "find function lasts  10.789433240890503  seconds\n"
     ]
    }
   ],
   "source": [
    "# DeepFace.stream(db_path='test', source = 0, model_name='ArcFace', detector_backend = 'retinaface',distance_metric = 'euclidean_l2')"
   ]
  },
  {
   "cell_type": "code",
   "execution_count": 4,
   "metadata": {},
   "outputs": [
    {
     "name": "stdout",
     "output_type": "stream",
     "text": [
      "CPU times: total: 3.8 s\n",
      "Wall time: 1.6 s\n"
     ]
    }
   ],
   "source": [
    "%%time\n",
    "result = DeepFace.extract_faces(\n",
    "    img_path = \"..\\\\examples\\\\Yarick.jpg\", \n",
    "    detector_backend = 'retinaface', \n",
    "    )"
   ]
  },
  {
   "cell_type": "code",
   "execution_count": 3,
   "metadata": {},
   "outputs": [],
   "source": [
    "import cv2\n",
    "cv2.imshow('Image', (result[0]['face']))\n",
    "# Ожидание нажатия клавиши\n",
    "cv2.waitKey(0)\n",
    "\n",
    "# Закрытие окна\n",
    "cv2.destroyAllWindows()"
   ]
  },
  {
   "cell_type": "markdown",
   "metadata": {},
   "source": [
    "### Пробуем использовать извлечённый детектор"
   ]
  },
  {
   "cell_type": "code",
   "execution_count": 28,
   "metadata": {},
   "outputs": [],
   "source": [
    "img_path = \"..\\\\examples\\\\Yarick.jpg\" \n",
    "img = cv2.imread(img_path)\n",
    "model = FaceDetector.build_model('retinaface')"
   ]
  },
  {
   "cell_type": "code",
   "execution_count": 29,
   "metadata": {},
   "outputs": [
    {
     "name": "stdout",
     "output_type": "stream",
     "text": [
      "CPU times: total: 234 ms\n",
      "Wall time: 556 ms\n"
     ]
    },
    {
     "data": {
      "text/plain": [
       "[(array([[[0, 0, 0],\n",
       "          [0, 0, 0],\n",
       "          [0, 0, 0],\n",
       "          ...,\n",
       "          [0, 0, 0],\n",
       "          [0, 0, 0],\n",
       "          [0, 0, 0]],\n",
       "  \n",
       "         [[0, 0, 0],\n",
       "          [0, 0, 0],\n",
       "          [0, 0, 0],\n",
       "          ...,\n",
       "          [0, 0, 0],\n",
       "          [0, 0, 0],\n",
       "          [0, 0, 0]],\n",
       "  \n",
       "         [[0, 0, 0],\n",
       "          [0, 0, 0],\n",
       "          [0, 0, 0],\n",
       "          ...,\n",
       "          [0, 0, 0],\n",
       "          [0, 0, 0],\n",
       "          [0, 0, 0]],\n",
       "  \n",
       "         ...,\n",
       "  \n",
       "         [[0, 0, 0],\n",
       "          [0, 0, 0],\n",
       "          [0, 0, 0],\n",
       "          ...,\n",
       "          [0, 0, 0],\n",
       "          [0, 0, 0],\n",
       "          [0, 0, 0]],\n",
       "  \n",
       "         [[0, 0, 0],\n",
       "          [0, 0, 0],\n",
       "          [0, 0, 0],\n",
       "          ...,\n",
       "          [0, 0, 0],\n",
       "          [0, 0, 0],\n",
       "          [0, 0, 0]],\n",
       "  \n",
       "         [[0, 0, 0],\n",
       "          [0, 0, 0],\n",
       "          [0, 0, 0],\n",
       "          ...,\n",
       "          [0, 0, 0],\n",
       "          [0, 0, 0],\n",
       "          [0, 0, 0]]], dtype=uint8),\n",
       "  [318, 344, 317, 462],\n",
       "  0.9978116154670715)]"
      ]
     },
     "execution_count": 29,
     "metadata": {},
     "output_type": "execute_result"
    }
   ],
   "source": [
    "%%time\n",
    "face_objs = FaceDetector.detect_faces(model, 'retinaface', img=img, align=True)\n",
    "face_objs"
   ]
  },
  {
   "cell_type": "code",
   "execution_count": 30,
   "metadata": {},
   "outputs": [],
   "source": [
    "cv2.imshow('Image', face_objs[0][0])\n",
    "# Ожидание нажатия клавиши\n",
    "cv2.waitKey(0)\n",
    "# Закрытие окна\n",
    "cv2.destroyAllWindows()"
   ]
  },
  {
   "cell_type": "markdown",
   "metadata": {},
   "source": [
    "### Определим человека на видеопотоке"
   ]
  },
  {
   "cell_type": "code",
   "execution_count": 2,
   "metadata": {},
   "outputs": [
    {
     "name": "stdout",
     "output_type": "stream",
     "text": [
      "True\n",
      "2.10.0\n"
     ]
    }
   ],
   "source": [
    "import tensorflow as tf\n",
    "print(tf.test.is_gpu_available())\n",
    "print(tf.__version__)"
   ]
  },
  {
   "cell_type": "code",
   "execution_count": 2,
   "metadata": {},
   "outputs": [],
   "source": [
    "def ectract_face(face_objs):\n",
    "    extracted_faces = []\n",
    "    grayscale = False\n",
    "    target_size = (112, 112)\n",
    "    for current_img, current_region, confidence in face_objs:\n",
    "        if current_img.shape[0] > 0 and current_img.shape[1] > 0:\n",
    "            if grayscale is True:\n",
    "                current_img = cv2.cvtColor(current_img, cv2.COLOR_BGR2GRAY)\n",
    "\n",
    "            # resize and padding\n",
    "            if current_img.shape[0] > 0 and current_img.shape[1] > 0:\n",
    "                factor_0 = target_size[0] / current_img.shape[0]\n",
    "                factor_1 = target_size[1] / current_img.shape[1]\n",
    "                factor = min(factor_0, factor_1)\n",
    "\n",
    "                dsize = (\n",
    "                    int(current_img.shape[1] * factor),\n",
    "                    int(current_img.shape[0] * factor),\n",
    "                )\n",
    "                current_img = cv2.resize(current_img, dsize)\n",
    "\n",
    "                diff_0 = target_size[0] - current_img.shape[0]\n",
    "                diff_1 = target_size[1] - current_img.shape[1]\n",
    "                if grayscale is False:\n",
    "                    # Put the base image in the middle of the padded image\n",
    "                    current_img = np.pad(\n",
    "                        current_img,\n",
    "                        (\n",
    "                            (diff_0 // 2, diff_0 - diff_0 // 2),\n",
    "                            (diff_1 // 2, diff_1 - diff_1 // 2),\n",
    "                            (0, 0),\n",
    "                        ),\n",
    "                        \"constant\",\n",
    "                    )\n",
    "                else:\n",
    "                    current_img = np.pad(\n",
    "                        current_img,\n",
    "                        (\n",
    "                            (diff_0 // 2, diff_0 - diff_0 // 2),\n",
    "                            (diff_1 // 2, diff_1 - diff_1 // 2),\n",
    "                        ),\n",
    "                        \"constant\",\n",
    "                    )\n",
    "\n",
    "            # double check: if target image is not still the same size with target.\n",
    "            if current_img.shape[0:2] != target_size:\n",
    "                current_img = cv2.resize(current_img, target_size)\n",
    "\n",
    "            # normalizing the image pixels\n",
    "            # what this line doing? must?\n",
    "            img_pixels = img_to_array(current_img)\n",
    "            img_pixels = np.expand_dims(img_pixels, axis=0)\n",
    "            img_pixels /= 255  # normalize input in [0, 1]\n",
    "\n",
    "            # int cast is for the exception - object of type 'float32' is not JSON serializable\n",
    "            region_obj = {\n",
    "                \"x\": int(current_region[0]),\n",
    "                \"y\": int(current_region[1]),\n",
    "                \"w\": int(current_region[2]),\n",
    "                \"h\": int(current_region[3]),\n",
    "            }\n",
    "\n",
    "            extracted_face = [img_pixels, region_obj, confidence]\n",
    "            extracted_faces.append(extracted_face)\n",
    "\n",
    "    return extracted_faces"
   ]
  },
  {
   "cell_type": "code",
   "execution_count": 6,
   "metadata": {},
   "outputs": [],
   "source": [
    "model_back = FaceDetector.build_model('retinaface')\n",
    "cap = cv2.VideoCapture(0)  # webcam\n",
    "data = pd.read_parquet('persons.parquet', engine='pyarrow')\n",
    "model_emb = DeepFace.build_model('ArcFace')\n",
    "target_size = (112, 112)\n",
    "\n",
    "def l2_normalize(x):\n",
    "    return x / np.sqrt(np.sum(np.multiply(x, x)))\n",
    "\n",
    "\n",
    "def get_id(img_objs, model, data):\n",
    "    names = {\n",
    "        1: 'Yaroslav'\n",
    "    }\n",
    "\n",
    "    detections_peoples = {'id': [], 'coords': []}\n",
    "    for img, region, confidence in img_objs:\n",
    "        # custom normalization\n",
    "        img = functions.normalize_input(img=img, normalization='base')\n",
    "        embedding = model.predict(img, verbose=0)[0].tolist()\n",
    "\n",
    "        data['distance'] = data['embedding'].apply(lambda x: distance.euclidean(x, l2_normalize(embedding)))\n",
    "        # Найденный человек и его id в формате [id]\n",
    "        person_id = data.loc[(data['distance']<1.15) & (data['distance']==data['distance'].min())]['id'].to_list()\n",
    "        # display(data.loc[(data['distance']<4.15) & (data['distance']==data['distance'].min())])\n",
    "        data.drop(columns=['distance'], inplace=True)\n",
    "        \n",
    "        # если человека в базе нет\n",
    "        if not person_id:\n",
    "            detections_peoples['id'].append(f\"undefind\")\n",
    "            detections_peoples['coords'].append(region)\n",
    "\n",
    "        # если человека в базе есть\n",
    "        else:\n",
    "            # detections_peoples['id'].append(f\"person_{person_id[0]}\")\n",
    "            detections_peoples['id'].append(names.get(person_id[0], f\"{person_id[0]}\"))\n",
    "            detections_peoples['coords'].append(region)\n",
    "    return detections_peoples\n",
    "\n",
    "\n",
    "while True:\n",
    "    _, img = cap.read()\n",
    "    # print(img.shape)\n",
    "    img =  cv2.resize(img, (320, 240))\n",
    "    # print(img.shape)\n",
    "    # raw_img = img.copy()\n",
    "    # resolution_x = img.shape[1]\n",
    "    # resolution_y = img.shape[0]\n",
    "    start_time = time.time()\n",
    "    img_objs = FaceDetector.detect_faces(model_back, 'retinaface', img=img, align=True)\n",
    "    if img_objs:\n",
    "        # print(img_objs[0][0].shape)\n",
    "        img_objs = ectract_face(img_objs)\n",
    "\n",
    "        # plot_img(img_objs[0][0])\n",
    "        id_obj = get_id(img_objs, model_emb, data)\n",
    "        \n",
    "        # print('Лицо найдено. ', f'Прошло времени {time.time() - start_time}')\n",
    "        for i, all_coords in enumerate(id_obj['coords']):\n",
    "            coords = list(all_coords.values())\n",
    "            cv2.rectangle(img, (coords[0], coords[1]), (coords[0]+coords[2], coords[1]+coords[3]), (0, 255, 0), 2)\n",
    "            cv2.putText(img, id_obj['id'][i], (coords[0], coords[1]-10), cv2.FONT_HERSHEY_SIMPLEX, 0.7, (0, 255, 0), 2)\n",
    "            \n",
    "        cv2.imshow(\"img\", img)\n",
    "        # print('Лицо есть', f'Прошло времени {time.time() - start_time}')\n",
    "    else:\n",
    "        # print('Лица нет', f'Прошло времени {time.time() - start_time}')\n",
    "        cv2.imshow(\"img\", img)\n",
    "    \n",
    "    # cv2.imshow(\"img\", img)\n",
    "    if cv2.waitKey(1) & 0xFF == ord('q'):\n",
    "        cap.release()\n",
    "        cv2.destroyAllWindows()   \n",
    "        break\n",
    "\n",
    "\n",
    "    if keyboard.is_pressed('q'):  # press q to quit\n",
    "        cap.release()\n",
    "        cv2.destroyAllWindows()   \n",
    "        break"
   ]
  },
  {
   "cell_type": "markdown",
   "metadata": {},
   "source": [
    "### Аналитика по изображению"
   ]
  },
  {
   "cell_type": "code",
   "execution_count": 4,
   "metadata": {},
   "outputs": [
    {
     "name": "stdout",
     "output_type": "stream",
     "text": [
      "facial_expression_model_weights.h5 will be downloaded...\n"
     ]
    },
    {
     "name": "stderr",
     "output_type": "stream",
     "text": [
      "Downloading...\n",
      "From: https://github.com/serengil/deepface_models/releases/download/v1.0/facial_expression_model_weights.h5\n",
      "To: C:\\Users\\ykolt\\.deepface\\weights\\facial_expression_model_weights.h5\n",
      "100%|██████████| 5.98M/5.98M [00:02<00:00, 2.14MB/s]\n"
     ]
    },
    {
     "name": "stdout",
     "output_type": "stream",
     "text": [
      "age_model_weights.h5 will be downloaded...\n"
     ]
    },
    {
     "name": "stderr",
     "output_type": "stream",
     "text": [
      "Downloading...\n",
      "From: https://github.com/serengil/deepface_models/releases/download/v1.0/age_model_weights.h5\n",
      "To: C:\\Users\\ykolt\\.deepface\\weights\\age_model_weights.h5\n",
      "100%|██████████| 539M/539M [06:17<00:00, 1.43MB/s] \n"
     ]
    },
    {
     "name": "stdout",
     "output_type": "stream",
     "text": [
      "gender_model_weights.h5 will be downloaded...\n"
     ]
    },
    {
     "name": "stderr",
     "output_type": "stream",
     "text": [
      "Downloading...\n",
      "From: https://github.com/serengil/deepface_models/releases/download/v1.0/gender_model_weights.h5\n",
      "To: C:\\Users\\ykolt\\.deepface\\weights\\gender_model_weights.h5\n",
      "100%|██████████| 537M/537M [01:04<00:00, 8.36MB/s] \n"
     ]
    },
    {
     "name": "stdout",
     "output_type": "stream",
     "text": [
      "race_model_single_batch.h5 will be downloaded...\n"
     ]
    },
    {
     "name": "stderr",
     "output_type": "stream",
     "text": [
      "Downloading...\n",
      "From: https://github.com/serengil/deepface_models/releases/download/v1.0/race_model_single_batch.h5\n",
      "To: C:\\Users\\ykolt\\.deepface\\weights\\race_model_single_batch.h5\n",
      "100%|██████████| 537M/537M [00:54<00:00, 9.93MB/s] \n",
      "Action: emotion: 100%|██████████| 4/4 [00:00<00:00,  4.31it/s]\n"
     ]
    },
    {
     "data": {
      "text/plain": [
       "[{'age': 29,\n",
       "  'region': {'x': 319, 'y': 344, 'w': 316, 'h': 462},\n",
       "  'gender': {'Woman': 0.18113600090146065, 'Man': 99.81886744499207},\n",
       "  'dominant_gender': 'Man',\n",
       "  'race': {'asian': 5.028108134865761,\n",
       "   'indian': 3.0811158940196037,\n",
       "   'black': 0.878790020942688,\n",
       "   'white': 45.757922530174255,\n",
       "   'middle eastern': 19.92960423231125,\n",
       "   'latino hispanic': 25.3244549036026},\n",
       "  'dominant_race': 'white',\n",
       "  'emotion': {'angry': 0.8976480923593044,\n",
       "   'disgust': 0.0006849432338640327,\n",
       "   'fear': 3.633444756269455,\n",
       "   'happy': 0.8925965987145901,\n",
       "   'sad': 2.678946405649185,\n",
       "   'surprise': 0.31186474952846766,\n",
       "   'neutral': 91.58481955528259},\n",
       "  'dominant_emotion': 'neutral'}]"
      ]
     },
     "execution_count": 4,
     "metadata": {},
     "output_type": "execute_result"
    }
   ],
   "source": [
    "result = DeepFace.analyze(\n",
    "    img_path = \"..\\\\examples\\\\Yarick.jpg\", \n",
    "    actions=['age', 'gender', 'race', 'emotion'],\n",
    "    detector_backend = 'retinaface', \n",
    "    )\n",
    "result"
   ]
  },
  {
   "cell_type": "code",
   "execution_count": 4,
   "metadata": {},
   "outputs": [
    {
     "name": "stderr",
     "output_type": "stream",
     "text": [
      "Action: emotion: 100%|██████████| 4/4 [00:00<00:00,  6.54it/s]\n"
     ]
    },
    {
     "data": {
      "text/plain": [
       "[{'age': 23,\n",
       "  'region': {'x': 986, 'y': 252, 'w': 500, 'h': 689},\n",
       "  'gender': {'Woman': 0.4333595745265484, 'Man': 99.56663846969604},\n",
       "  'dominant_gender': 'Man',\n",
       "  'race': {'asian': 0.2555438317358494,\n",
       "   'indian': 0.40113721042871475,\n",
       "   'black': 0.04701849247794598,\n",
       "   'white': 68.82495284080505,\n",
       "   'middle eastern': 13.881948590278625,\n",
       "   'latino hispanic': 16.58940613269806},\n",
       "  'dominant_race': 'white',\n",
       "  'emotion': {'angry': 2.370544895529747,\n",
       "   'disgust': 0.04561023670248687,\n",
       "   'fear': 6.133944168686867,\n",
       "   'happy': 41.9373482465744,\n",
       "   'sad': 3.824266791343689,\n",
       "   'surprise': 0.28525814414024353,\n",
       "   'neutral': 45.40303349494934},\n",
       "  'dominant_emotion': 'neutral'}]"
      ]
     },
     "execution_count": 4,
     "metadata": {},
     "output_type": "execute_result"
    }
   ],
   "source": [
    "result = DeepFace.analyze(\n",
    "    img_path = \"..\\\\examples\\\\Yarick_v2.jpg\",\n",
    "    actions=['age', 'gender', 'race', 'emotion'],\n",
    "    detector_backend = 'retinaface', \n",
    ")\n",
    "result"
   ]
  },
  {
   "cell_type": "markdown",
   "metadata": {},
   "source": [
    "### Сходство двух изображений"
   ]
  },
  {
   "cell_type": "code",
   "execution_count": 4,
   "metadata": {},
   "outputs": [
    {
     "data": {
      "text/plain": [
       "{'verified': True,\n",
       " 'distance': 0.797080456399059,\n",
       " 'threshold': 1.13,\n",
       " 'model': 'ArcFace',\n",
       " 'detector_backend': 'retinaface',\n",
       " 'similarity_metric': 'euclidean_l2',\n",
       " 'facial_areas': {'img1': {'x': 318, 'y': 344, 'w': 317, 'h': 462},\n",
       "  'img2': {'x': 986, 'y': 252, 'w': 500, 'h': 689}},\n",
       " 'time': 3.22}"
      ]
     },
     "execution_count": 4,
     "metadata": {},
     "output_type": "execute_result"
    }
   ],
   "source": [
    "result = DeepFace.verify(\n",
    "    img1_path = \"..\\\\examples\\\\Yarick.jpg\",\n",
    "    img2_path = \"..\\\\examples\\\\Yarick_v2.jpg\",\n",
    "    model_name='ArcFace',\n",
    "    detector_backend = 'retinaface',\n",
    "    distance_metric='euclidean_l2'\n",
    ")\n",
    "result"
   ]
  },
  {
   "cell_type": "markdown",
   "metadata": {},
   "source": [
    "### Поиск человека на изображениях в какой-то папке"
   ]
  },
  {
   "cell_type": "code",
   "execution_count": 4,
   "metadata": {},
   "outputs": [
    {
     "name": "stderr",
     "output_type": "stream",
     "text": [
      "Finding representations: 100%|██████████| 13/13 [00:07<00:00,  1.80it/s]\n"
     ]
    },
    {
     "name": "stdout",
     "output_type": "stream",
     "text": [
      "Representations stored in examples/representations_arcface.pkl file.Please delete this file when you add new identities in your database.\n",
      "find function lasts  7.475730895996094  seconds\n"
     ]
    },
    {
     "data": {
      "text/html": [
       "<div>\n",
       "<style scoped>\n",
       "    .dataframe tbody tr th:only-of-type {\n",
       "        vertical-align: middle;\n",
       "    }\n",
       "\n",
       "    .dataframe tbody tr th {\n",
       "        vertical-align: top;\n",
       "    }\n",
       "\n",
       "    .dataframe thead th {\n",
       "        text-align: right;\n",
       "    }\n",
       "</style>\n",
       "<table border=\"1\" class=\"dataframe\">\n",
       "  <thead>\n",
       "    <tr style=\"text-align: right;\">\n",
       "      <th></th>\n",
       "      <th>identity</th>\n",
       "      <th>source_x</th>\n",
       "      <th>source_y</th>\n",
       "      <th>source_w</th>\n",
       "      <th>source_h</th>\n",
       "      <th>ArcFace_euclidean</th>\n",
       "    </tr>\n",
       "  </thead>\n",
       "  <tbody>\n",
       "    <tr>\n",
       "      <th>0</th>\n",
       "      <td>examples/Yarick.jpg</td>\n",
       "      <td>303</td>\n",
       "      <td>373</td>\n",
       "      <td>398</td>\n",
       "      <td>398</td>\n",
       "      <td>0.000000</td>\n",
       "    </tr>\n",
       "    <tr>\n",
       "      <th>1</th>\n",
       "      <td>examples/my_team.jpg</td>\n",
       "      <td>303</td>\n",
       "      <td>373</td>\n",
       "      <td>398</td>\n",
       "      <td>398</td>\n",
       "      <td>3.349577</td>\n",
       "    </tr>\n",
       "    <tr>\n",
       "      <th>2</th>\n",
       "      <td>examples/Ksusha_Yar.jpg</td>\n",
       "      <td>303</td>\n",
       "      <td>373</td>\n",
       "      <td>398</td>\n",
       "      <td>398</td>\n",
       "      <td>3.385817</td>\n",
       "    </tr>\n",
       "    <tr>\n",
       "      <th>3</th>\n",
       "      <td>examples\\Ksusha/test_1.jpg</td>\n",
       "      <td>303</td>\n",
       "      <td>373</td>\n",
       "      <td>398</td>\n",
       "      <td>398</td>\n",
       "      <td>3.752016</td>\n",
       "    </tr>\n",
       "  </tbody>\n",
       "</table>\n",
       "</div>"
      ],
      "text/plain": [
       "                     identity  source_x  source_y  source_w  source_h  \\\n",
       "0         examples/Yarick.jpg       303       373       398       398   \n",
       "1        examples/my_team.jpg       303       373       398       398   \n",
       "2     examples/Ksusha_Yar.jpg       303       373       398       398   \n",
       "3  examples\\Ksusha/test_1.jpg       303       373       398       398   \n",
       "\n",
       "   ArcFace_euclidean  \n",
       "0           0.000000  \n",
       "1           3.349577  \n",
       "2           3.385817  \n",
       "3           3.752016  "
      ]
     },
     "execution_count": 4,
     "metadata": {},
     "output_type": "execute_result"
    }
   ],
   "source": [
    "result = DeepFace.find(\n",
    "    img_path = \"..\\\\examples\\\\Yarick.jpg\",\n",
    "    db_path = 'examples',\n",
    "    model_name = 'ArcFace',\n",
    "    enforce_detection = False,\n",
    "    distance_metric='euclidean'\n",
    ")\n",
    "os.remove(\"..\\\\examples\\\\representations_arcface.pkl\")\n",
    "result = result[0]\n",
    "# result.drop_duplicates(subset=['identity'], keep='first', inplace=True)\n",
    "result"
   ]
  },
  {
   "cell_type": "markdown",
   "metadata": {},
   "source": [
    "### Получение embedding значения по лицу"
   ]
  },
  {
   "cell_type": "code",
   "execution_count": 3,
   "metadata": {},
   "outputs": [],
   "source": [
    "embedding_objs_1 = DeepFace.represent(\n",
    "    img_path = \"..\\\\examples\\\\Yarick.jpg\",\n",
    "    detector_backend = 'retinaface',\n",
    "    model_name='ArcFace'\n",
    ")\n",
    "\n",
    "embedding_objs_2 = DeepFace.represent(\n",
    "    img_path = \"..\\\\examples\\\\Yarick_v2.jpg\",\n",
    "    detector_backend = 'retinaface', \n",
    "    model_name='ArcFace'\n",
    ")"
   ]
  },
  {
   "cell_type": "code",
   "execution_count": 91,
   "metadata": {},
   "outputs": [
    {
     "data": {
      "text/plain": [
       "[319, 344, 635, 806]"
      ]
     },
     "execution_count": 91,
     "metadata": {},
     "output_type": "execute_result"
    }
   ],
   "source": [
    "# x y w h\n",
    "coords_1 = list(embedding_objs_1[0]['facial_area'].values())\n",
    "coords_1 = [coords_1[0], coords_1[1], coords_1[0]+coords_1[2], coords_1[1]+coords_1[3]]\n",
    "coords_1"
   ]
  },
  {
   "cell_type": "markdown",
   "metadata": {},
   "source": [
    "### Выделение лиц на изображениях"
   ]
  },
  {
   "cell_type": "code",
   "execution_count": 93,
   "metadata": {},
   "outputs": [],
   "source": [
    "image = Image.open(f\"..\\\\examples\\\\Yarick.jpg\")\n",
    "color = (random.randint(0, 255),random.randint(0, 255),random.randint(0, 255))\n",
    "draw = ImageDraw.Draw(image)\n",
    "draw.rectangle(tuple(coords_1), outline=color, width = 5)\n",
    "    \n",
    "image.show()"
   ]
  },
  {
   "cell_type": "markdown",
   "metadata": {},
   "source": [
    "### Пример подсчёта евклидова расстояния \n",
    "* 'threshold' = 4.15 `для схожести предложенный DeepFace`"
   ]
  },
  {
   "cell_type": "code",
   "execution_count": 69,
   "metadata": {},
   "outputs": [
    {
     "data": {
      "text/plain": [
       "2.983515922074877"
      ]
     },
     "execution_count": 69,
     "metadata": {},
     "output_type": "execute_result"
    }
   ],
   "source": [
    "eu_distance = distance.euclidean(embedding_objs_1[0]['embedding'] ,embedding_objs_2[0]['embedding'])\n",
    "eu_distance"
   ]
  },
  {
   "cell_type": "markdown",
   "metadata": {},
   "source": [
    "### Вывод\n",
    "Работает в целом неплохо, но есть некоторые неточности.\n",
    "\n",
    "Лучшие параметры:\n",
    "* detector_backend = `retinaface` модель детекции лица (лучшая так как хорошо вырезает лицо)\n",
    "* model_name = `ArcFace` данная модель даёт лучший embedding\n",
    "* distance_metric = `euclidean_l2`расстояние которое оценивается для схожести лиц в embedding\n",
    "* enforce_detection = `False` для вывода исключения если лицо не найдено (проблема в том что выдаёт левые координаты)"
   ]
  },
  {
   "cell_type": "markdown",
   "metadata": {},
   "source": [
    "### Типы расстояний\n",
    "[Примеры расстояний в ML](https://evogeek.ru/articles/201126/)"
   ]
  },
  {
   "cell_type": "markdown",
   "metadata": {},
   "source": [
    "### Напишем свой метод для детекции объектов и анализа"
   ]
  },
  {
   "cell_type": "code",
   "execution_count": 146,
   "metadata": {},
   "outputs": [
    {
     "data": {
      "text/plain": [
       "dict_keys(['embedding', 'facial_area'])"
      ]
     },
     "execution_count": 146,
     "metadata": {},
     "output_type": "execute_result"
    }
   ],
   "source": [
    "emb = DeepFace.represent (\n",
    "    img_path = \"..\\\\examples\\\\my_team.jpg\",\n",
    "    detector_backend = 'retinaface',\n",
    "    model_name='ArcFace',\n",
    ")\n",
    "emb[0].keys()"
   ]
  },
  {
   "cell_type": "code",
   "execution_count": 131,
   "metadata": {},
   "outputs": [
    {
     "data": {
      "text/plain": [
       "512"
      ]
     },
     "execution_count": 131,
     "metadata": {},
     "output_type": "execute_result"
    }
   ],
   "source": [
    "len(emb[0]['embedding'])"
   ]
  },
  {
   "cell_type": "markdown",
   "metadata": {},
   "source": [
    "### Сохраним данные об одном человеке в датафрейм и загрузим в паркет"
   ]
  },
  {
   "cell_type": "code",
   "execution_count": 147,
   "metadata": {},
   "outputs": [],
   "source": [
    "data = pd.DataFrame({'id': [i for i in range(len(emb))], 'embedding': [list(val['embedding']) for val in emb]})\n",
    "data.to_parquet('persons.parquet', index=False, engine='pyarrow')"
   ]
  },
  {
   "cell_type": "code",
   "execution_count": 81,
   "metadata": {},
   "outputs": [
    {
     "name": "stdout",
     "output_type": "stream",
     "text": [
      "<class 'pandas.core.frame.DataFrame'>\n",
      "RangeIndex: 5 entries, 0 to 4\n",
      "Data columns (total 2 columns):\n",
      " #   Column     Non-Null Count  Dtype \n",
      "---  ------     --------------  ----- \n",
      " 0   id         5 non-null      int64 \n",
      " 1   embedding  5 non-null      object\n",
      "dtypes: int64(1), object(1)\n",
      "memory usage: 208.0+ bytes\n"
     ]
    }
   ],
   "source": [
    "data = pd.read_parquet('persons.parquet')\n",
    "data.info()"
   ]
  },
  {
   "cell_type": "code",
   "execution_count": 66,
   "metadata": {},
   "outputs": [],
   "source": [
    "# Берём 0 эмбединг\n",
    "# data['embedding'].to_list()"
   ]
  },
  {
   "cell_type": "code",
   "execution_count": 93,
   "metadata": {},
   "outputs": [
    {
     "data": {
      "text/plain": [
       "True"
      ]
     },
     "execution_count": 93,
     "metadata": {},
     "output_type": "execute_result"
    }
   ],
   "source": [
    "pd.DataFrame({'id':[], 'embedding': []}).empty #['embedding'].apply(lambda x: x+1)"
   ]
  },
  {
   "cell_type": "markdown",
   "metadata": {},
   "source": [
    "#### Заметка\n",
    "[код библиотеки](https://github.com/serengil/deepface/blob/master/deepface/DeepFace.py#L325)"
   ]
  },
  {
   "attachments": {
    "image.png": {
     "image/png": "[encoded data removed]"
    }
   },
   "cell_type": "markdown",
   "metadata": {},
   "source": [
    "![image.png](attachment:image.png)"
   ]
  },
  {
   "cell_type": "code",
   "execution_count": 9,
   "metadata": {},
   "outputs": [
    {
     "name": "stdout",
     "output_type": "stream",
     "text": [
      "CPU times: total: 438 ms\n",
      "Wall time: 4.57 s\n"
     ]
    },
    {
     "data": {
      "text/plain": [
       "{'id': ['person_0', 'undefind_1'],\n",
       " 'coords': [[562, 68, 132, 183], [817, 75, 131, 182]]}"
      ]
     },
     "execution_count": 9,
     "metadata": {},
     "output_type": "execute_result"
    }
   ],
   "source": [
    "%%time\n",
    "def plot_image(img_path, coords_for_each_person, labels):\n",
    "    image = Image.open(img_path)\n",
    "    font = ImageFont.truetype(size = 50, font = \"arial.ttf\")\n",
    "    \n",
    "    for i, coords in enumerate(coords_for_each_person):\n",
    "        coords = [coords[0], coords[1], coords[0]+coords[2], coords[1]+coords[3]]\n",
    "        color = (random.randint(0, 255),random.randint(0, 255),random.randint(0, 255))\n",
    "        draw = ImageDraw.Draw(image)\n",
    "        draw.text((coords[0], coords[1]-50), f\"{labels[i]}\", font = font, fill=color)\n",
    "        draw.rectangle(coords, outline=color, width = 8)\n",
    "    # image.save('image\\\\output_2.jpg')     \n",
    "    image.show()\n",
    "    \n",
    "\n",
    "def l2_normalize(x):\n",
    "    return x / np.sqrt(np.sum(np.multiply(x, x)))\n",
    "\n",
    "\n",
    "def analize_faces (img_path, new_person = False, plot = True):\n",
    "    data = {}\n",
    "    try:\n",
    "        objects = DeepFace.represent(\n",
    "            img_path = img_path,\n",
    "            detector_backend = 'retinaface',\n",
    "            model_name='ArcFace'\n",
    "        )\n",
    "\n",
    "\n",
    "        # Получаем координаты всех лиц в формате List[List[x, y, w, h], List[x, y, w, h]], где\n",
    "        # x, y - координаты левого верхнего угла рамки лица\n",
    "        # w, h - высота и ширина рамки\n",
    "\n",
    "        coords = [list(val['facial_area'].values()) for val in objects]\n",
    "        embeddings = [list(val['embedding']) for val in objects]\n",
    "        labels = []\n",
    "\n",
    "        try:\n",
    "            data = pd.read_parquet('persons.parquet', engine='pyarrow')\n",
    "        except:\n",
    "            data = pd.DataFrame({'id':[], 'embedding': []})\n",
    "\n",
    "        # Словарь с выходными данными\n",
    "        detections_peoples = {'id':[], 'coords':[]}\n",
    "\n",
    "        if new_person:\n",
    "            if not data.empty: # Если база данных не пустая\n",
    "                for i, emb in enumerate(embeddings):\n",
    "                    data['distance'] = data['embedding'].apply(lambda x: distance.euclidean(x, l2_normalize(emb)))\n",
    "\n",
    "                    # Найденный человек и его id в формате [id]\n",
    "                    person_id = data.loc[(data['distance']<1.15) & (data['distance']==data['distance'].min())]['id'].to_list()\n",
    "                    # display(data.loc[(data['distance']<4.15) & (data['distance']==data['distance'].min())])\n",
    "                    data.drop(columns=['distance'], inplace=True)\n",
    "                    \n",
    "                    # если человека в базе нет\n",
    "                    if not person_id:\n",
    "                        # print(f\"person_{data['id'].max()+1}\")\n",
    "                        labels.append(f\"person_{data['id'].max()+1}\")\n",
    "                        detections_peoples['id'].append(f\"person_{data['id'].max()+1}\")\n",
    "                        detections_peoples['coords'].append(coords[i])\n",
    "\n",
    "                        new_row = pd.DataFrame({'id': [data['id'].max()+1], 'embedding': [l2_normalize(emb)]})\n",
    "                        data = pd.concat([data, new_row])\n",
    "\n",
    "                        \n",
    "                        # display(data)\n",
    "\n",
    "                    # если человека в базе есть\n",
    "                    else:\n",
    "                        labels.append(f\"person_{person_id[0]}\")\n",
    "                        detections_peoples['id'].append(f\"person_{person_id[0]}\")\n",
    "                        detections_peoples['coords'].append(coords[i])\n",
    "\n",
    "            else: # Если база данных пустая\n",
    "                for i, emb in enumerate(embeddings):\n",
    "                    new_row = pd.DataFrame({'id': [i], 'embedding': [l2_normalize(emb)]})\n",
    "                    data = pd.concat([data, new_row])\n",
    "                    \n",
    "                    labels.append(f\"person_{i}\")\n",
    "                    detections_peoples['id'].append(f\"person_{i}\")\n",
    "                    detections_peoples['coords'].append(coords[i])\n",
    "\n",
    "                data['id'] = data['id'].astype(int)\n",
    "                # display(data)\n",
    "\n",
    "            # Сохраняем изменения\n",
    "            # display(data)\n",
    "            data.to_parquet('persons.parquet', index=False, engine='pyarrow')\n",
    "\n",
    "        else: # Без добавления в базу данных\n",
    "            if not data.empty: # Если база данных не пустая\n",
    "                \n",
    "                for i, emb in enumerate(embeddings):\n",
    "                    data['distance'] = data['embedding'].apply(lambda x: distance.euclidean(x, l2_normalize(emb)))\n",
    "                    # Найденный человек и его id в формате [id]\n",
    "                    person_id = data.loc[(data['distance']<1.15) & (data['distance']==data['distance'].min())]['id'].to_list()\n",
    "                    # display(data.loc[(data['distance']<4.15) & (data['distance']==data['distance'].min())])\n",
    "                    # display(data)\n",
    "                    data.drop(columns=['distance'], inplace=True)\n",
    "                    \n",
    "                    # если человека в базе нет\n",
    "                    if not person_id:\n",
    "                        labels.append(f\"undefind_{i}\")\n",
    "                        detections_peoples['id'].append(f\"undefind_{i}\")\n",
    "                        detections_peoples['coords'].append(coords[i])\n",
    "\n",
    "                    # если человека в базе есть\n",
    "                    else:\n",
    "                        # print(f'Человек в базе есть {person_id[0]}')\n",
    "                        labels.append(f\"person_{person_id[0]}\")\n",
    "                        detections_peoples['id'].append(f\"person_{person_id[0]}\")\n",
    "                        detections_peoples['coords'].append(coords[i])\n",
    "\n",
    "            else: # Если база данных пустая\n",
    "                for i, emb in enumerate(embeddings):\n",
    "                    labels.append(f\"undefind_{i}\")\n",
    "                    detections_peoples['id'].append(f\"undefind_{i}\")\n",
    "                    detections_peoples['coords'].append(coords[i])\n",
    "\n",
    "\n",
    "        if plot:\n",
    "            plot_image(img_path, coords, labels)\n",
    "        \n",
    "\n",
    "    except Exception as e:\n",
    "        print(f'Ошибка \\n\\n{e}')\n",
    "\n",
    "    return detections_peoples\n",
    "\n",
    "# analize_faces('..\\\\examples\\\\skala_1.png', new_person=True)\n",
    "analize_faces('..\\\\examples\\\\skala_2.jpg', new_person=False)\n",
    "# \n",
    "\n",
    "# analize_faces('..\\\\examples\\my_team.jpg', new_person=True, plot=True)\n",
    "# analize_faces('..\\\\examples\\\\Yarick.jpg', new_person=True)\n",
    "# analize_faces('..\\\\examples\\\\Danil.jpg', new_person=True)\n",
    "# analize_faces('..\\\\examples\\\\chelicki.jpg', new_person=False)\n",
    "# analize_faces('..\\\\examples\\\\disa.jpg', new_person=False)\n",
    "# analize_faces('..\\\\examples\\\\Yarick_v2.jpg', new_person=False)\n",
    "# analize_faces('..\\\\examples\\\\Yarick_v3.jpg', new_person=False)\n",
    "# analize_faces('..\\\\examples\\\\test.png', new_person=True)\n",
    "# analize_faces('..\\\\examples\\\\test_2.png', new_person=False)\n",
    "# analize_faces('..\\\\examples\\\\Ksusha\\\\test_2.jpg', new_person=True)"
   ]
  },
  {
   "cell_type": "code",
   "execution_count": null,
   "metadata": {},
   "outputs": [],
   "source": []
  }
 ],
 "metadata": {
  "kernelspec": {
   "display_name": ".venv",
   "language": "python",
   "name": "python3"
  },
  "language_info": {
   "codemirror_mode": {
    "name": "ipython",
    "version": 3
   },
   "file_extension": ".py",
   "mimetype": "text/x-python",
   "name": "python",
   "nbconvert_exporter": "python",
   "pygments_lexer": "ipython3",
   "version": "3.10.5"
  }
 },
 "nbformat": 4,
 "nbformat_minor": 2
}
